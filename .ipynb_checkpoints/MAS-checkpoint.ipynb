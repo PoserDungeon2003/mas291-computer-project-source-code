{
 "cells": [
  {
   "cell_type": "code",
   "execution_count": 1,
   "metadata": {},
   "outputs": [
    {
     "data": {
      "text/plain": [
       "'C:\\\\Users\\\\Admin\\\\AppData\\\\Local\\\\Programs\\\\Python\\\\Python310\\\\python.exe'"
      ]
     },
     "execution_count": 1,
     "metadata": {},
     "output_type": "execute_result"
    }
   ],
   "source": [
    "import sys\n",
    "sys.executable\n",
    "#Copy below path and paste to the 2nd cell"
   ]
  },
  {
   "cell_type": "code",
   "execution_count": 2,
   "metadata": {
    "scrolled": false
   },
   "outputs": [
    {
     "name": "stdout",
     "output_type": "stream",
     "text": [
      "Requirement already satisfied: scipy in c:\\users\\admin\\appdata\\local\\programs\\python\\python310\\lib\\site-packages (1.11.1)\n",
      "Requirement already satisfied: statsmodels in c:\\users\\admin\\appdata\\local\\programs\\python\\python310\\lib\\site-packages (0.14.0)\n",
      "Requirement already satisfied: sklearn in c:\\users\\admin\\appdata\\local\\programs\\python\\python310\\lib\\site-packages (0.0.post5)\n",
      "Requirement already satisfied: numpy<1.28.0,>=1.21.6 in c:\\users\\admin\\appdata\\local\\programs\\python\\python310\\lib\\site-packages (from scipy) (1.23.2)\n",
      "Requirement already satisfied: packaging>=21.3 in c:\\users\\admin\\appdata\\local\\programs\\python\\python310\\lib\\site-packages (from statsmodels) (21.3)\n",
      "Requirement already satisfied: pandas>=1.0 in c:\\users\\admin\\appdata\\local\\programs\\python\\python310\\lib\\site-packages (from statsmodels) (1.4.4)\n",
      "Requirement already satisfied: patsy>=0.5.2 in c:\\users\\admin\\appdata\\local\\programs\\python\\python310\\lib\\site-packages (from statsmodels) (0.5.3)\n",
      "Requirement already satisfied: pyparsing!=3.0.5,>=2.0.2 in c:\\users\\admin\\appdata\\local\\programs\\python\\python310\\lib\\site-packages (from packaging>=21.3->statsmodels) (3.0.9)\n",
      "Requirement already satisfied: pytz>=2020.1 in c:\\users\\admin\\appdata\\local\\programs\\python\\python310\\lib\\site-packages (from pandas>=1.0->statsmodels) (2022.2.1)\n",
      "Requirement already satisfied: python-dateutil>=2.8.1 in c:\\users\\admin\\appdata\\local\\programs\\python\\python310\\lib\\site-packages (from pandas>=1.0->statsmodels) (2.8.2)\n",
      "Requirement already satisfied: six in c:\\users\\admin\\appdata\\local\\programs\\python\\python310\\lib\\site-packages (from patsy>=0.5.2->statsmodels) (1.16.0)\n"
     ]
    },
    {
     "name": "stderr",
     "output_type": "stream",
     "text": [
      "\n",
      "[notice] A new release of pip available: 22.3.1 -> 23.2\n",
      "[notice] To update, run: C:\\Users\\Admin\\AppData\\Local\\Programs\\Python\\Python310\\python.exe -m pip install --upgrade pip\n"
     ]
    }
   ],
   "source": [
    "#Paste after '!'\n",
    "!C:\\\\Users\\\\Admin\\\\AppData\\\\Local\\\\Programs\\\\Python\\\\Python310\\\\python.exe -m pip install scipy statsmodels sklearn"
   ]
  },
  {
   "cell_type": "code",
   "execution_count": 3,
   "metadata": {},
   "outputs": [],
   "source": [
    "import pandas as pd \n",
    "import math\n",
    "import matplotlib as plt \n",
    "import numpy as np"
   ]
  },
  {
   "cell_type": "code",
   "execution_count": 4,
   "metadata": {},
   "outputs": [],
   "source": [
    "wage= pd.read_excel('wage.xlsx')"
   ]
  },
  {
   "cell_type": "code",
   "execution_count": 5,
   "metadata": {},
   "outputs": [
    {
     "data": {
      "text/plain": [
       "0       16\n",
       "1        9\n",
       "2       16\n",
       "3       10\n",
       "4       16\n",
       "        ..\n",
       "3005     7\n",
       "3006    15\n",
       "3007     6\n",
       "3008    13\n",
       "3009     7\n",
       "Name: exper, Length: 3010, dtype: int64"
      ]
     },
     "execution_count": 5,
     "metadata": {},
     "output_type": "execute_result"
    }
   ],
   "source": [
    "wage['exper']"
   ]
  },
  {
   "cell_type": "code",
   "execution_count": 6,
   "metadata": {},
   "outputs": [],
   "source": [
    "import numpy as np\n",
    "import pandas as pd\n",
    "\n",
    "id = 450\n",
    "np.random.seed(id)\n",
    "yourdata = wage.sample(n=30)\n",
    "\n"
   ]
  },
  {
   "cell_type": "code",
   "execution_count": 7,
   "metadata": {},
   "outputs": [
    {
     "data": {
      "text/plain": [
       "472     1\n",
       "1178    1\n",
       "2969    0\n",
       "2809    0\n",
       "236     1\n",
       "659     1\n",
       "2820    0\n",
       "411     1\n",
       "1027    0\n",
       "1064    0\n",
       "2305    1\n",
       "717     1\n",
       "2091    1\n",
       "2839    0\n",
       "2163    1\n",
       "2161    1\n",
       "977     1\n",
       "1917    1\n",
       "1210    0\n",
       "1314    0\n",
       "2162    1\n",
       "843     1\n",
       "2685    0\n",
       "2534    0\n",
       "122     1\n",
       "339     1\n",
       "1820    0\n",
       "1710    1\n",
       "908     1\n",
       "234     1\n",
       "Name: nearc4, dtype: int64"
      ]
     },
     "execution_count": 7,
     "metadata": {},
     "output_type": "execute_result"
    }
   ],
   "source": [
    "yourdata['nearc4'].tail(30)"
   ]
  },
  {
   "cell_type": "code",
   "execution_count": 8,
   "metadata": {},
   "outputs": [
    {
     "name": "stdout",
     "output_type": "stream",
     "text": [
      "16.332227201348502 %\n"
     ]
    }
   ],
   "source": [
    "#Q1 Bài toán sử dụng phân phối nhị thức.\n",
    "def countBlack(x):\n",
    "    count = 0\n",
    "    for i in range(len(x)):\n",
    "        if x[i]==1:\n",
    "            count += 1\n",
    "    return count\n",
    "x= wage['black'].values\n",
    "\n",
    "blackMan= countBlack(x)\n",
    "\n",
    "P= blackMan/len(wage)\n",
    "\n",
    "\n",
    "\n",
    "\n",
    "\n",
    "rs=math.comb(blackMan,6)*math.comb(3010-blackMan,24)/math.comb(3010,30)\n",
    "print(rs*100,'%')"
   ]
  },
  {
   "cell_type": "code",
   "execution_count": 9,
   "metadata": {},
   "outputs": [
    {
     "name": "stdout",
     "output_type": "stream",
     "text": [
      "xác xuất để chọn ra 5 người có ít nhất 1 người da đen là :  81.52077807250221 %\n"
     ]
    }
   ],
   "source": [
    "#Q2\n",
    "def countWhite(y):\n",
    "    count=0\n",
    "    for i in range(len(y)):\n",
    "        if y[i]==0:\n",
    "            count +=1\n",
    "    return count\n",
    "y= yourdata['black'].values\n",
    "whiteMan= countWhite(y)\n",
    "blackMan=30-whiteMan\n",
    "\n",
    "\n",
    "def caculate(y1):\n",
    "    fullWhiteMan=1\n",
    "    sums=1\n",
    "    rs=0\n",
    "\n",
    "    for i in range(5):\n",
    "        fullWhiteMan*=(30-blackMan-i)\n",
    "\n",
    "    for ii in range(5):\n",
    "        sums*=30-ii\n",
    "    rs=1- fullWhiteMan/sums\n",
    "    return rs\n",
    "\n",
    "y1= yourdata['black'].values\n",
    "rsy= caculate(y1)\n",
    "print('xác xuất để chọn ra 5 người có ít nhất 1 người da đen là : ',rsy*100,'%')\n",
    "    \n",
    "\n",
    "\n",
    "\n",
    "\n"
   ]
  },
  {
   "cell_type": "code",
   "execution_count": 10,
   "metadata": {},
   "outputs": [
    {
     "name": "stdout",
     "output_type": "stream",
     "text": [
      "Expect values black man is :  7.0066445182724255\n",
      "Numbers of blackman  in sample is:  8\n"
     ]
    }
   ],
   "source": [
    "#Q3\n",
    "#a\n",
    "rsEblackMan= P*30\n",
    "print('Expect values black man is : ',rsEblackMan)\n",
    "#b\n",
    "print('Numbers of blackman  in sample is: ',blackMan)"
   ]
  },
  {
   "cell_type": "code",
   "execution_count": 11,
   "metadata": {},
   "outputs": [
    {
     "name": "stdout",
     "output_type": "stream",
     "text": [
      "1.0307575022150077 %\n"
     ]
    }
   ],
   "source": [
    "#Q4 # Phân phối poisson / choose a person, what is the probability that he/she has 6 years in education?\n",
    "meanEduc = yourdata['educ'].mean()\n",
    "\n",
    "rs=(math.e**-meanEduc) * meanEduc**6 / math.factorial(6)\n",
    "print(rs*100,'%')\n",
    "\n",
    "\n",
    "\n",
    "\n",
    "    \n",
    "\n",
    "\n"
   ]
  },
  {
   "cell_type": "code",
   "execution_count": 12,
   "metadata": {},
   "outputs": [
    {
     "name": "stdout",
     "output_type": "stream",
     "text": [
      "age's mean of wage:  28.119601328903656\n",
      "age's var of wage:  9.837522764649398\n",
      "age's mean of yourdata:  28.266666666666666\n",
      "age's mean of yourdata:  8.395555555555557\n"
     ]
    },
    {
     "data": {
      "image/png": "[encoded data removed]",
      "text/plain": [
       "<Figure size 640x480 with 1 Axes>"
      ]
     },
     "metadata": {},
     "output_type": "display_data"
    }
   ],
   "source": [
    "#Q5  Create the bar chart for age. Is age a uniform distribution?\n",
    "meanAge= np.mean(wage['age'])\n",
    "varAge=np.var(wage['age'])\n",
    "YmeanAge= np.mean(yourdata['age'])\n",
    "YvarAge=np.var(yourdata['age'])\n",
    "print(\"age's mean of wage: \",meanAge)\n",
    "print(\"age's var of wage: \",varAge)\n",
    "print(\"age's mean of yourdata: \",YmeanAge)\n",
    "print(\"age's mean of yourdata: \",YvarAge)\n",
    "import matplotlib.pyplot as plt\n",
    "import numpy as np\n",
    "import matplotlib.pyplot as plt\n",
    "x=wage['age']\n",
    "def visualize_age(x):\n",
    "    # Tạo biểu đồ bar chart\n",
    "    plt.bar( wage.index,x)\n",
    "    # Đặt tên cho trục x và trục y\n",
    "    plt.xlabel('Index')\n",
    "    plt.ylabel('Age')\n",
    "    # Hiển thị biểu đồ\n",
    "    plt.show()\n",
    "visualize_age(x)\n"
   ]
  },
  {
   "cell_type": "code",
   "execution_count": 13,
   "metadata": {},
   "outputs": [
    {
     "name": "stdout",
     "output_type": "stream",
     "text": [
      "The probability P(5 < lwage < 6) is: 0.2752\n"
     ]
    }
   ],
   "source": [
    "#6. Suppose that lwage is a normally distributed random variable with mean μ = 6.26 and standard deviation σ = 0.44. Find the probability P(5 < lwage < 6).\n",
    "import scipy.stats as stats\n",
    "\n",
    "# Define the mean and standard deviation of lwage\n",
    "mu = 6.26\n",
    "sigma = 0.44\n",
    "\n",
    "# Calculate the z-scores for 5 and 6\n",
    "z1 = (5 - mu) / sigma\n",
    "z2 = (6 - mu) / sigma\n",
    "\n",
    "# Use the cumulative distribution function to calculate the probability\n",
    "prob = stats.norm.cdf(z2) - stats.norm.cdf(z1)\n",
    "\n",
    "print(\"The probability P(5 < lwage < 6) is: {:.4f}\".format(prob))\n"
   ]
  },
  {
   "cell_type": "code",
   "execution_count": 14,
   "metadata": {},
   "outputs": [
    {
     "name": "stdout",
     "output_type": "stream",
     "text": [
      "The probability P(100 < IQ < 110) is: 0.7779\n",
      "n is:  299\n"
     ]
    }
   ],
   "source": [
    "#Q7\n",
    "#a\n",
    "IQclear= yourdata['IQ'].dropna()\n",
    "n=20\n",
    "meanIQ= np.mean(IQclear)\n",
    "varIQ= np.var(IQclear)\n",
    "\n",
    "\n",
    "z1= (100- meanIQ) /(math.sqrt(varIQ)/math.sqrt(n))\n",
    "z2= (110- meanIQ) /(math.sqrt(varIQ)/math.sqrt(n))\n",
    "\n",
    "\n",
    "prob = stats.norm.cdf(z2) - stats.norm.cdf(z1)\n",
    "\n",
    "print(\"The probability P(100 < IQ < 110) is: {:.4f}\".format(prob))\n",
    "\n",
    "\n",
    "\n",
    "#b\n",
    "n= varIQ/1\n",
    "print('n is: ',round(n))\n",
    "\n",
    "\n",
    "\n",
    "\n",
    "\n",
    "\n",
    "\n",
    "\n",
    "\n"
   ]
  },
  {
   "cell_type": "code",
   "execution_count": 15,
   "metadata": {},
   "outputs": [
    {
     "name": "stdout",
     "output_type": "stream",
     "text": [
      "The wage's  mean is 577.2823920265781\n",
      "The wage's median is 537.5\n",
      "The wage's mode is 500\n",
      "The wage's variance is 69147.06878257806\n",
      "The wage's standard deviation is 262.95830236480094\n",
      "====================\n",
      "The IQ' mean is 103.66666666666667\n",
      "The median is 104.0\n",
      "The IQ's mode is 104.0\n",
      "The  IQ variance is 310.3076923076923\n",
      "The standard deviation is 17.615552568900366\n",
      "====================\n",
      "The exper's mean is 8.856146179401993\n",
      "The exper's median is 8.0\n",
      "The exper's mode is 6\n",
      "The exper's variance is 17.153443434922256\n",
      "The exper's standard deviation is 4.141671574970939\n",
      "====================\n",
      "The educ's  mean is 13.263455149501661\n",
      "The Educ's median is 13.0\n",
      "The Educ's mode is 12\n",
      "The wage's variance is 7.165862434843863\n",
      "The Educ's standard deviation is 2.6769128552950434\n",
      "====================\n"
     ]
    }
   ],
   "source": [
    "#Q8 .\tCalculate the statistics for wage, IQ, educ and exper.\n",
    "# Import the statistics module\n",
    "import statistics\n",
    "\n",
    "# Calculate the mean\n",
    "mean = statistics.mean(wage[\"wage\"])\n",
    "print(f\"The wage's  mean is {mean}\")\n",
    "\n",
    "# Calculate the median\n",
    "median = statistics.median(wage[\"wage\"])\n",
    "print(f\"The wage's median is {median}\")\n",
    "\n",
    "# Calculate the mode\n",
    "mode = statistics.mode(wage[\"wage\"])\n",
    "print(f\"The wage's mode is {mode}\")\n",
    "\n",
    "# Calculate the variance\n",
    "variance = statistics.variance(wage[\"wage\"])\n",
    "print(f\"The wage's variance is {variance}\")\n",
    "\n",
    "# Calculate the standard deviation\n",
    "std_dev = statistics.stdev(wage[\"wage\"])\n",
    "print(f\"The wage's standard deviation is {std_dev}\")\n",
    "\n",
    "print('='*20)\n",
    "#========================================\n",
    "\n",
    "IQclear= yourdata['IQ'].dropna()\n",
    "meanIQ = statistics.mean(IQclear)\n",
    "print(f\"The IQ' mean is {meanIQ}\")\n",
    "\n",
    "# Calculate the median\n",
    "IQmedian = statistics.median(IQclear)\n",
    "print(f\"The median is {IQmedian}\")\n",
    "\n",
    "# Calculate the mode\n",
    "IQmode = statistics.mode(IQclear)\n",
    "print(f\"The IQ's mode is {IQmode}\")\n",
    "\n",
    "# Calculate the variance\n",
    "IQvariance = statistics.variance(IQclear)\n",
    "print(f\"The  IQ variance is {IQvariance}\")\n",
    "\n",
    "# Calculate the standard deviation\n",
    "IQstd_dev = statistics.stdev(IQclear)\n",
    "print(f\"The standard deviation is {IQstd_dev}\")\n",
    "print('='*20)\n",
    "#==============================================\n",
    "expermean = statistics.mean(wage[\"exper\"])\n",
    "print(f\"The exper's mean is {expermean}\")\n",
    "\n",
    "# Calculate the median\n",
    "expermedian = statistics.median(wage[\"exper\"])\n",
    "print(f\"The exper's median is {expermedian}\")\n",
    "\n",
    "# Calculate the mode\n",
    "expermode = statistics.mode(wage[\"exper\"])\n",
    "print(f\"The exper's mode is {expermode}\")\n",
    "\n",
    "# Calculate the variance\n",
    "expervariance = statistics.variance(wage[\"exper\"])\n",
    "print(f\"The exper's variance is {expervariance}\")\n",
    "\n",
    "# Calculate the standard deviation\n",
    "experstd_dev = statistics.stdev(wage[\"exper\"])\n",
    "print(f\"The exper's standard deviation is {experstd_dev}\")\n",
    "\n",
    "print('='*20)\n",
    "\n",
    "#=================================================\n",
    "Educmean = statistics.mean(wage[\"educ\"])\n",
    "print(f\"The educ's  mean is {Educmean}\")\n",
    "\n",
    "# Calculate the median\n",
    "Educmedian = statistics.median(wage[\"educ\"])\n",
    "print(f\"The Educ's median is {Educmedian}\")\n",
    "\n",
    "# Calculate the mode\n",
    "Educmode = statistics.mode(wage[\"educ\"])\n",
    "print(f\"The Educ's mode is {Educmode}\")\n",
    "\n",
    "# Calculate the variance\n",
    "Educvariance = statistics.variance(wage[\"educ\"])\n",
    "print(f\"The wage's variance is {Educvariance}\")\n",
    "\n",
    "# Calculate the standard deviation\n",
    "Educstd_dev = statistics.stdev(wage[\"educ\"])\n",
    "print(f\"The Educ's standard deviation is {Educstd_dev}\")\n",
    "\n",
    "print('='*20)"
   ]
  },
  {
   "cell_type": "code",
   "execution_count": 16,
   "metadata": {},
   "outputs": [
    {
     "name": "stdout",
     "output_type": "stream",
     "text": [
      "Mean of IQ is : 103.66666666666667\n",
      "variance of IQ is :  310.3076923076923\n"
     ]
    }
   ],
   "source": [
    "#Q9 find Mean and variance of IQ\n",
    "IQclear= yourdata['IQ'].dropna()\n",
    "SampleIQ=np.mean(IQclear,axis=0)\n",
    "print('Mean of IQ is :',SampleIQ)\n",
    "sample_var = np.var(IQclear, ddof=1)\n",
    "print(\"variance of IQ is : \", sample_var)"
   ]
  },
  {
   "cell_type": "code",
   "execution_count": 17,
   "metadata": {},
   "outputs": [
    {
     "name": "stdout",
     "output_type": "stream",
     "text": [
      "Mean of Iwage 6.354127295811971\n",
      "The 95% confidence interval for the true mean lwage is: (6.196678211164862, 6.511576380459081)\n"
     ]
    }
   ],
   "source": [
    "#Q10 Suppose that lwage is a normally distributed random variable with standard deviation \n",
    "import scipy.stats as stats\n",
    "sample=np.mean(yourdata['lwage'])\n",
    "print('Mean of Iwage',sample)\n",
    "\n",
    "# Sample mean and standard deviation of lwage\n",
    "sample_mean=sample\n",
    "sample_std = 0.44\n",
    "\n",
    "# Calculate the standard error of the mean\n",
    "std_error = sample_std / (len(yourdata['lwage']) ** 0.5)\n",
    "\n",
    "# Calculate the 95% confidence interval\n",
    "conf_int = stats.norm.interval(0.95, loc=sample_mean, scale=std_error)\n",
    "\n",
    "print(\"The 95% confidence interval for the true mean lwage is:\", conf_int)\n"
   ]
  },
  {
   "cell_type": "code",
   "execution_count": 18,
   "metadata": {},
   "outputs": [
    {
     "name": "stdout",
     "output_type": "stream",
     "text": [
      "The 96% confidence interval for the true mean lwage is: -19.353944384014312 , 226.68727771734765\n"
     ]
    }
   ],
   "source": [
    "#Q11\n",
    "\n",
    "chanduoi= SampleIQ -2.06 *sample_var/math.sqrt(len(IQclear))\n",
    "chantren=SampleIQ +2.06 *sample_var/math.sqrt(len(IQclear))\n",
    "\n",
    "print(\"The 96% confidence interval for the true mean lwage is:\", chanduoi,',',chantren)"
   ]
  },
  {
   "cell_type": "code",
   "execution_count": 19,
   "metadata": {},
   "outputs": [
    {
     "name": "stdout",
     "output_type": "stream",
     "text": [
      "sample size should be used is:  19\n"
     ]
    }
   ],
   "source": [
    "#Q12\n",
    "rs=(1.96*0.44/0.2)**2\n",
    "print('sample size should be used is: ',round(rs))\n"
   ]
  },
  {
   "cell_type": "code",
   "execution_count": 20,
   "metadata": {},
   "outputs": [
    {
     "name": "stdout",
     "output_type": "stream",
     "text": [
      "-2.575829303548901\n"
     ]
    }
   ],
   "source": [
    "#Q13\n",
    "from scipy.stats import norm\n",
    "\n",
    "a = 0.01\n",
    "z = norm.ppf(a/2)\n",
    "#Hàm tính Z\n",
    "print(z)\n",
    "\n",
    "\n",
    "\n",
    "\n"
   ]
  },
  {
   "cell_type": "code",
   "execution_count": 21,
   "metadata": {},
   "outputs": [
    {
     "name": "stdout",
     "output_type": "stream",
     "text": [
      "sample should be use is:  16587\n"
     ]
    }
   ],
   "source": [
    "#Q14\n",
    "def countBlack(x):\n",
    "    count = 0\n",
    "    for i in range(len(x)):\n",
    "        if x[i]==1:\n",
    "            count += 1\n",
    "    return count\n",
    "x= yourdata['black'].values\n",
    "\n",
    "blackMan= countBlack(x)\n",
    "\n",
    "n = 30\n",
    "x = blackMan\n",
    "p = x / n  # proportion of black people in the sample\n",
    "\n",
    "# calculate the variance using the formula for a binomial distribution\n",
    "s2 = n * p * (1 - p) / (n - 1)\n",
    "\n",
    "\n",
    "from scipy.stats import norm\n",
    "\n",
    "a = 0.01\n",
    "z = norm.ppf(a/2)\n",
    "rs=((z/0.01)**2)*0.25\n",
    "print('sample should be use is: ',round(rs))\n",
    "\n",
    "\n"
   ]
  },
  {
   "cell_type": "code",
   "execution_count": 22,
   "metadata": {},
   "outputs": [
    {
     "name": "stdout",
     "output_type": "stream",
     "text": [
      "no reject\n"
     ]
    }
   ],
   "source": [
    "\n",
    "#Q15\n",
    "z= (SampleIQ - 100)/15/math.sqrt(30)\n",
    "\n",
    "Zalpha = norm.ppf(0.01)\n",
    "\n",
    "if z > - Zalpha and z <  Zalpha:\n",
    "    print('Reject')\n",
    "else:\n",
    "    print('no reject')\n",
    "\n"
   ]
  },
  {
   "cell_type": "code",
   "execution_count": 23,
   "metadata": {},
   "outputs": [
    {
     "name": "stdout",
     "output_type": "stream",
     "text": [
      "t-statistic = 32.368373792247624\n",
      "t-critical = 1.2818329794772596\n",
      "Reject the null hypothesis: mean(lwage) > 6\n"
     ]
    }
   ],
   "source": [
    "#16\n",
    "import numpy as np\n",
    "from scipy.stats import t\n",
    "\n",
    "# đầu tiên, ta cần lấy mẫu con của lwage\n",
    "lwage_subsample = wage['lwage']\n",
    "\n",
    "# đặt giả thuyết H0 và H1\n",
    "H0_mean = 6\n",
    "H1_mean = 6\n",
    "alpha = 0.1\n",
    "\n",
    "# tính toán trung bình mẫu và độ lệch chuẩn mẫu\n",
    "xbar = np.mean(lwage_subsample)\n",
    "s = np.std(lwage_subsample, ddof=1)\n",
    "\n",
    "# tính toán giá trị t-statistic\n",
    "t_statistic = (xbar - H0_mean) / (s / np.sqrt(len(lwage_subsample)))\n",
    "\n",
    "# tính toán giá trị t-critical (nếu muốn kiểm định hai đuôi)\n",
    "t_critical = t.ppf(1-alpha, len(lwage_subsample)-1)\n",
    "\n",
    "\n",
    "# In kết quả\n",
    "print(\"t-statistic =\", t_statistic)\n",
    "\n",
    "print(\"t-critical =\", t_critical)\n",
    "\n",
    "# kiểm định giả thuyết\n",
    "if t_statistic > t_critical:\n",
    "    print(\"Reject the null hypothesis: mean(lwage) > 6\")\n",
    "else:\n",
    "    print(\"Fail to reject the null hypothesis: mean(lwage) = 6\")\n"
   ]
  },
  {
   "cell_type": "code",
   "execution_count": 24,
   "metadata": {},
   "outputs": [
    {
     "data": {
      "text/plain": [
       "117.10749649493572"
      ]
     },
     "execution_count": 24,
     "metadata": {},
     "output_type": "execute_result"
    }
   ],
   "source": [
    "#17\n",
    "import math\n",
    "num_less_than_10 = len(wage[wage['exper'] < 10])\n",
    "\n",
    "# We have a sample of 3010 people, and that 1850 of them have less than 10 years of work experience.\n",
    "p0 = 0.07\n",
    "p_less_than_10 = len(wage[wage['exper'] < 10]) / 3010\n",
    "p_less_than_10\n",
    "# The formula for the test statistic is:\n",
    "# z = (p̂ - p0) / sqrt(p0(1-p0) / n)\n",
    "z = (p_less_than_10 - p0) / math.sqrt(p0 * (1 - p0) / 3010)\n",
    "z "
   ]
  },
  {
   "cell_type": "code",
   "execution_count": 25,
   "metadata": {},
   "outputs": [
    {
     "name": "stdout",
     "output_type": "stream",
     "text": [
      "1850\n",
      "There is a significant difference between the average wages of black and non-black individuals at a 1% significance level.\n",
      "There is a significant difference between the proportions of black and non-black individuals with low IQ at a 5% significance level.\n"
     ]
    }
   ],
   "source": [
    "#Q18\n",
    "import math\n",
    "num_less_than_10 = len(wage[wage['exper'] < 10])\n",
    "print(num_less_than_10)\n",
    "# We have a sample of 3010 people, and that 1850 of them have less than 10 years of work experience.\n",
    "p0 = 0.07\n",
    "p_less_than_10 = len(wage[wage['exper'] < 10]) / 3010\n",
    "p_less_than_10\n",
    "# The formula for the test statistic is:\n",
    "# z = (p̂ - p0) / sqrt(p0(1-p0) / n)\n",
    "z = (p_less_than_10 - p0) / math.sqrt(p0 * (1 - p0) / 3010)\n",
    "z \n",
    "# Because alpha = 0.02 --> z = -2.33 and 2.33 but we see that z = 117.10749649493572 is much larger than 2.33 so we can\n",
    "# conclude that the observed proportion is significantly different from p0 and provides evidence in support of an alternative hypothesis.\n",
    "\n",
    "\n",
    "#a\n",
    "\n",
    "# Separate the data into two groups: black and non-black\n",
    "black = wage[wage['black'] == 1]['wage']\n",
    "non_black = wage[wage['black'] == 0]['wage']\n",
    "\n",
    "# Calculate the t-statistic and p-value\n",
    "t_statistic, p_value = stats.ttest_ind(black, non_black)\n",
    "\n",
    "# Compare the p-value with the significance level (0.01)\n",
    "if p_value < 0.01:\n",
    "    print(\"There is a significant difference between the average wages of black and non-black individuals at a 1% significance level.\")\n",
    "else:\n",
    "    print(\"There is no significant difference between the average wages of black and non-black individuals at a 1% significance level.\")\n",
    "\n",
    "\n",
    "#b\n",
    "from statsmodels.stats.proportion import proportions_ztest\n",
    "\n",
    "# Separate the data into two groups: black and non-black\n",
    "black = wage[wage['black'] == 1]\n",
    "non_black = wage[wage['black'] == 0]\n",
    "\n",
    "# Calculate the number of successes (low IQ) and sample size for both groups\n",
    "num_successes = [sum(black['IQ'] < 90), sum(non_black['IQ'] < 90)]\n",
    "sample_sizes = [len(black), len(non_black)]\n",
    "\n",
    "# Calculate the z-statistic and p-value\n",
    "z_statistic, p_value = proportions_ztest(num_successes, sample_sizes)\n",
    "\n",
    "# Compare the p-value with the significance level (0.05)\n",
    "if p_value < 0.05:\n",
    "    print(\"There is a significant difference between the proportions of black and non-black individuals with low IQ at a 5% significance level.\")\n",
    "else:\n",
    "    print(\"There is no significant difference between the proportions of black and non-black individuals with low IQ at a 5% significance level.\")\n",
    "\n",
    "\n",
    "#c\n",
    "\n"
   ]
  },
  {
   "cell_type": "code",
   "execution_count": 26,
   "metadata": {},
   "outputs": [
    {
     "name": "stdout",
     "output_type": "stream",
     "text": [
      "Slope:  24.84546084546084\n",
      "Intercept:  272.08385308385317\n",
      "Regression is not significant at 10% level\n",
      "R-squared:  0.07538922365467371\n",
      "Reject null hypothesis: The regression is significant at the 10% level.\n"
     ]
    }
   ],
   "source": [
    "#19\n",
    "import statsmodels.api as sm\n",
    "X = yourdata['educ']\n",
    "y = yourdata['wage']\n",
    "X = sm.add_constant(X)\n",
    "model = sm.OLS(y, X).fit()\n",
    "#a\n",
    "print(\"Slope: \", model.params[1])\n",
    "print(\"Intercept: \", model.params[0])\n",
    "#b\n",
    "if model.pvalues[0] < 0.1:\n",
    "    print(\"Regression is significant at 10% level\")\n",
    "else:\n",
    "    print(\"Regression is not significant at 10% level\")\n",
    "#c\n",
    "SSE = np.sum(model.resid ** 2)\n",
    "SST = np.sum((y - np.mean(y)) ** 2)\n",
    "R2 = 1 - SSE / SST\n",
    "print(\"R-squared: \", R2)\n",
    "#d\n",
    "import statsmodels.api as sm\n",
    "\n",
    "\n",
    "model = sm.OLS(y, X).fit()\n",
    "\n",
    "k = 1\n",
    "n = len(y)\n",
    "RSS = model.ssr\n",
    "SSE = model.ssr / (n - k - 1)\n",
    "\n",
    "F = (RSS / k) / (SSE / (n - k - 1))\n",
    "p_value = 1 - stats.f.cdf(F, dfn=k, dfd=n-k-1)\n",
    "\n",
    "if p_value < 0.1:\n",
    "    print(\"Reject null hypothesis: The regression is significant at the 10% level.\")\n",
    "else:\n",
    "    print(\"Fail to reject null hypothesis: The regression is not significant at the 10% level.\")\n",
    "\n"
   ]
  },
  {
   "cell_type": "code",
   "execution_count": 27,
   "metadata": {},
   "outputs": [
    {
     "name": "stdout",
     "output_type": "stream",
     "text": [
      "                            OLS Regression Results                            \n",
      "==============================================================================\n",
      "Dep. Variable:                  lwage   R-squared:                       0.097\n",
      "Model:                            OLS   Adj. R-squared:                  0.065\n",
      "Method:                 Least Squares   F-statistic:                     3.024\n",
      "Date:                Sun, 16 Jul 2023   Prob (F-statistic):             0.0930\n",
      "Time:                        14:49:14   Log-Likelihood:                -11.798\n",
      "No. Observations:                  30   AIC:                             27.60\n",
      "Df Residuals:                      28   BIC:                             30.40\n",
      "Df Model:                           1                                         \n",
      "Covariance Type:            nonrobust                                         \n",
      "==============================================================================\n",
      "                 coef    std err          t      P>|t|      [0.025      0.975]\n",
      "------------------------------------------------------------------------------\n",
      "const          5.6181      0.429     13.106      0.000       4.740       6.496\n",
      "educ           0.0537      0.031      1.739      0.093      -0.010       0.117\n",
      "==============================================================================\n",
      "Omnibus:                        2.043   Durbin-Watson:                   1.723\n",
      "Prob(Omnibus):                  0.360   Jarque-Bera (JB):                1.828\n",
      "Skew:                          -0.562   Prob(JB):                        0.401\n",
      "Kurtosis:                       2.552   Cond. No.                         88.2\n",
      "==============================================================================\n",
      "\n",
      "Notes:\n",
      "[1] Standard Errors assume that the covariance matrix of the errors is correctly specified.\n"
     ]
    }
   ],
   "source": [
    "#20\n",
    "import statsmodels.api as sm\n",
    "\n",
    "# Chọn biến độc lập và biến phụ thuộc\n",
    "X = yourdata['educ']\n",
    "y = yourdata['lwage']\n",
    "\n",
    "# Thêm một intercept vào mô hình\n",
    "X = sm.add_constant(X)\n",
    "\n",
    "# Tạo mô hình hồi quy tuyến tính và fit dữ liệu vào mô hình\n",
    "model = sm.OLS(y, X).fit()\n",
    "\n",
    "# In kết quả\n",
    "print(model.summary())\n"
   ]
  },
  {
   "cell_type": "code",
   "execution_count": 28,
   "metadata": {},
   "outputs": [
    {
     "ename": "ModuleNotFoundError",
     "evalue": "No module named 'sklearn'",
     "output_type": "error",
     "traceback": [
      "\u001b[1;31m---------------------------------------------------------------------------\u001b[0m",
      "\u001b[1;31mModuleNotFoundError\u001b[0m                       Traceback (most recent call last)",
      "Cell \u001b[1;32mIn[28], line 3\u001b[0m\n\u001b[0;32m      1\u001b[0m \u001b[38;5;28;01mimport\u001b[39;00m \u001b[38;5;21;01mnumpy\u001b[39;00m \u001b[38;5;28;01mas\u001b[39;00m \u001b[38;5;21;01mnp\u001b[39;00m\n\u001b[0;32m      2\u001b[0m \u001b[38;5;28;01mimport\u001b[39;00m \u001b[38;5;21;01mmatplotlib\u001b[39;00m\u001b[38;5;21;01m.\u001b[39;00m\u001b[38;5;21;01mpyplot\u001b[39;00m \u001b[38;5;28;01mas\u001b[39;00m \u001b[38;5;21;01mplt\u001b[39;00m\n\u001b[1;32m----> 3\u001b[0m \u001b[38;5;28;01mfrom\u001b[39;00m \u001b[38;5;21;01msklearn\u001b[39;00m\u001b[38;5;21;01m.\u001b[39;00m\u001b[38;5;21;01mlinear_model\u001b[39;00m \u001b[38;5;28;01mimport\u001b[39;00m LinearRegression\n\u001b[0;32m      4\u001b[0m \u001b[38;5;28;01mfrom\u001b[39;00m \u001b[38;5;21;01msklearn\u001b[39;00m\u001b[38;5;21;01m.\u001b[39;00m\u001b[38;5;21;01mpreprocessing\u001b[39;00m \u001b[38;5;28;01mimport\u001b[39;00m PolynomialFeatures\n\u001b[0;32m      6\u001b[0m \u001b[38;5;66;03m# extract the independent and dependent variables from the data\u001b[39;00m\n",
      "\u001b[1;31mModuleNotFoundError\u001b[0m: No module named 'sklearn'"
     ]
    }
   ],
   "source": [
    "import numpy as np\n",
    "import matplotlib.pyplot as plt\n",
    "from sklearn.linear_model import LinearRegression\n",
    "from sklearn.preprocessing import PolynomialFeatures\n",
    "\n",
    "# extract the independent and dependent variables from the data\n",
    "X = yourdata['educ'].values.reshape(-1, 1)\n",
    "y = yourdata['lwage']\n",
    "\n",
    "# fit a polynomial regression model\n",
    "poly = PolynomialFeatures(degree=2)\n",
    "X_poly = poly.fit_transform(X)\n",
    "poly.fit(X_poly, y)\n",
    "lin_reg = LinearRegression()\n",
    "lin_reg.fit(X_poly, y)\n",
    "\n",
    "# visualize the model\n",
    "plt.scatter(X, y, color='red')\n",
    "plt.plot(X, lin_reg.predict(poly.fit_transform(X)), color='blue')\n",
    "plt.title('Polynomial Regression')\n",
    "plt.xlabel('Education')\n",
    "plt.ylabel('Log Wage')\n",
    "plt.show()\n",
    "# Tạo mô hình hồi quy tuyến tính và fit dữ liệu vào mô hình\n",
    "model = sm.OLS(y, X).fit()\n",
    "\n",
    "# In kết quả\n",
    "print(model.summary())"
   ]
  },
  {
   "cell_type": "markdown",
   "metadata": {},
   "source": [
    "Using wage as the dependent variable and education as the independent variable, the first model is a straightforward linear regression model. A polynomial regression model with a quadratic component for education makes up the second model.\n",
    "\n",
    "When comparing the two models, the first one has a lower AIC of 36.00 and a higher R-squared value of 0.070, indicating that it has a better fit and explains more variation in the data than the second model. Also, the first model's coefficient of education has a p-value of 0.158, indicating that at the 5% level, the relationship between education and log salary is not statistically significant.\n",
    "The second model, in comparison, has a very high R-squared value of 0.967, indicating that it effectively accounts for virtually all of the variation in the data. The second model, however, has a high AIC of 97.02, indicating that its fit is not as excellent as the first model's. The quadratic term of educ is the sole coefficient in the second model, which also contains one. Because of this, it is challenging to meaningfully interpret the relationship between education and log salary.\n",
    "\n",
    "Therefore, the first model is likely better because it is simpler, more interpretable, and has a better fit to the data. The second model may be overfitting the data, which can lead to poor performance on new data."
   ]
  }
 ],
 "metadata": {
  "kernelspec": {
   "display_name": "Python 3 (ipykernel)",
   "language": "python",
   "name": "python3"
  },
  "language_info": {
   "codemirror_mode": {
    "name": "ipython",
    "version": 3
   },
   "file_extension": ".py",
   "mimetype": "text/x-python",
   "name": "python",
   "nbconvert_exporter": "python",
   "pygments_lexer": "ipython3",
   "version": "3.10.7"
  }
 },
 "nbformat": 4,
 "nbformat_minor": 2
}
